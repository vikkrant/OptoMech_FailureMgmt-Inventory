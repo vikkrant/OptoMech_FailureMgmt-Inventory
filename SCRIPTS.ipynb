{
 "cells": [
  {
   "cell_type": "code",
   "execution_count": 2,
   "metadata": {},
   "outputs": [],
   "source": [
    "#-----#0:Setting Up Hashmap with the Exisiting 22 Components------#\n",
    "#Set up the 22 existing using the 3 functions below\n",
    "# df = pandas.read_excel(\"724Ready.xlsx\")\n",
    "# compRecords = {}\n",
    "# for index in range(0,df.shape[0]):\n",
    "#     dfElement = df.iloc[index]\n",
    "#     serNum = dfElement[\"Serial Number W/O Production Number\"]\n",
    "    \n",
    "#     if dfElement[\"Classification\"] == \"Failure\":\n",
    "#         failedComponent = 1\n",
    "#     else:\n",
    "#         failedComponent = 0\n",
    "\n",
    "#     if serNum in compRecords:\n",
    "#         compRecords[serNum] = (compRecords[serNum][0] + failedComponent, compRecords[serNum][1] + 1)\n",
    "#     else:\n",
    "#         compRecords[serNum] = (failedComponent, 1)\n",
    "    \n",
    "# for index in range(0,df.shape[0]):\n",
    "#     compSerNum = df.iloc[index][\"Serial Number W/O Production Number\"]\n",
    "#     df.loc[index,\"Amount Failed\"] = compRecords[compSerNum][0]\n",
    "#     df.loc[index,\"Total Amount\"] = compRecords[compSerNum][1]\n",
    "#     df.loc[index,\"Rate of Failure\"] = round(compRecords[compSerNum][0]/compRecords[compSerNum][1],2)\n",
    "\n",
    "# #return df\n",
    "\n",
    "    \n",
    "\n"
   ]
  },
  {
   "cell_type": "code",
   "execution_count": 2,
   "metadata": {},
   "outputs": [],
   "source": [
    "import pandas \n",
    "from sklearn import preprocessing as pp\n",
    "df = pandas.read_excel(\"724Ready.xlsx\")\n",
    "compRecords = {}"
   ]
  },
  {
   "cell_type": "code",
   "execution_count": null,
   "metadata": {},
   "outputs": [],
   "source": [
    "#-----#1:Binary Encoding Symptoms (Multi-Labeling)------#\n",
    "mlb = pp.MultiLabelBinarizer()\n",
    "Y = list(df[\"Standardized\"])\n",
    "for (k,v) in enumerate(Y):\n",
    "    if \",\" in v:\n",
    "        Y[k] = v.split(\",\")\n",
    "    else:\n",
    "        Y[k] = [v]\n",
    "\n",
    "mlb.fit_transform(Y)\n"
   ]
  },
  {
   "cell_type": "code",
   "execution_count": null,
   "metadata": {},
   "outputs": [],
   "source": [
    "#-----#2:Filtering Failed Components to be Analyzed------#\n",
    "allComp = df[\"Classification\"]\n",
    "\n",
    "indToAnalyze = []\n",
    "for (k,v) in enumerate(allComp):\n",
    "    if v == \"Failure\":\n",
    "        indToAnalyze.append(k)\n",
    "\n",
    "print(indToAnalyze)\n",
    "\n"
   ]
  },
  {
   "cell_type": "code",
   "execution_count": null,
   "metadata": {},
   "outputs": [],
   "source": [
    "#-----#3:Calculating Ratio of Failed V/S Working Components------#\n",
    "for index in range(0,df.shape[0]):\n",
    "    dfElement = df.iloc[index]\n",
    "    serNum = dfElement[\"Serial Number W/O Production Number\"]\n",
    "    \n",
    "    if dfElement[\"Classification\"] == \"Failure\":\n",
    "        failedComponent = 1\n",
    "    else:\n",
    "        failedComponent = 0\n",
    "\n",
    "    if serNum in compRecords:\n",
    "        compRecords[serNum] = (compRecords[serNum][0] + failedComponent, compRecords[serNum][1] + 1)\n",
    "    else:\n",
    "        compRecords[serNum] = (failedComponent, 1)\n",
    "\n",
    "print(compRecords)\n",
    "   \n",
    "    \n",
    "\n",
    "        "
   ]
  }
 ],
 "metadata": {
  "kernelspec": {
   "display_name": "MODS_NEH",
   "language": "python",
   "name": "python3"
  },
  "language_info": {
   "codemirror_mode": {
    "name": "ipython",
    "version": 3
   },
   "file_extension": ".py",
   "mimetype": "text/x-python",
   "name": "python",
   "nbconvert_exporter": "python",
   "pygments_lexer": "ipython3",
   "version": "3.12.4"
  }
 },
 "nbformat": 4,
 "nbformat_minor": 2
}
