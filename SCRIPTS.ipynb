{
 "cells": [
  {
   "cell_type": "code",
   "execution_count": null,
   "metadata": {},
   "outputs": [],
   "source": [
    "import pandas \n",
    "from sklearn import preprocessing as pp\n",
    "df = pandas.read_excel(\"724Ready.xlsx\")\n",
    "#Creating Hashmap using data gathered up until 8/22\n",
    "compRecords = {}\n",
    "for index in range(0,df.shape[0]):\n",
    "    dfElement = df.iloc[index]\n",
    "    serNum = dfElement[\"Serial Number W/O Production Number\"]\n",
    "    \n",
    "    if dfElement[\"Classification\"] == \"Failure\":\n",
    "        failedComponent = 1\n",
    "    else:\n",
    "        failedComponent = 0\n",
    "\n",
    "    if serNum in compRecords:\n",
    "        compRecords[serNum] = (compRecords[serNum][0] + failedComponent, compRecords[serNum][1] + 1)\n",
    "    else:\n",
    "        compRecords[serNum] = (failedComponent, 1)\n",
    "    \n",
    "#Hashmap Created -- Now Write to the DataFrame\n",
    "for index in range(0,df.shape[0]):\n",
    "    compSerNum = df.iloc[index][\"Serial Number W/O Production Number\"]\n",
    "    df.loc[index,\"Amount Failed\"] = compRecords[compSerNum][0]\n",
    "    df.loc[index,\"Total Amount\"] = compRecords[compSerNum][1]\n",
    "    df.loc[index,\"Rate of Failure\"] = round(compRecords[compSerNum][0]/compRecords[compSerNum][1],2)\n",
    "print(df)\n",
    "\n",
    "\n",
    "    \n",
    "\n"
   ]
  },
  {
   "cell_type": "code",
   "execution_count": null,
   "metadata": {},
   "outputs": [],
   "source": [
    "#-----#1:Binary Encoding Symptoms (Multi-Labeling)------#\n",
    "mlb = pp.MultiLabelBinarizer()\n",
    "Y = list(df[\"Standardized\"])\n",
    "for (k,v) in enumerate(Y):\n",
    "    if \",\" in v:\n",
    "        Y[k] = v.split(\",\")\n",
    "    else:\n",
    "        Y[k] = [v]\n",
    "\n",
    "#return mlb.fit_transform(Y)\n"
   ]
  },
  {
   "cell_type": "code",
   "execution_count": 25,
   "metadata": {},
   "outputs": [],
   "source": [
    "#-----#2:Filtering Failed Components to be Analyzed------#\n",
    "allComp = df[\"Classification\"]\n",
    "\n",
    "indToAnalyze = []\n",
    "for (k,v) in enumerate(allComp):\n",
    "    if v == \"Failure\":\n",
    "        indToAnalyze.append(v)\n",
    "\n",
    "#return indToAnalyze\n",
    "#Use the result of this script and modify the range of features/targets using pandas.iloc\n"
   ]
  },
  {
   "cell_type": "code",
   "execution_count": null,
   "metadata": {},
   "outputs": [],
   "source": [
    "#-----#3:Calculating Ratio of Failed V/S Working Components------#\n",
    "#Construct a hashmap where the component's name is the key \n",
    "#The value is a tuple of the form (x,y)\n",
    "#x represents the number of recorded failed units of that component\n",
    "#y represents the number of total units of that component ever delivered to SLAC \n",
    "#------Execution--------#\n",
    "#Run through the file, one component at a time\n",
    "#Add the component to the hashmap\n",
    "#If it is not present already in the map, add it as a key\n",
    "#If classification is failure => increment the associated failure value by 1 \n",
    "#And increment the associated total inventory value by 1\n",
    "#If the classification is inventory => leave the associated failure value as is \n",
    "#And increment the total inventory by 1\n",
    "\n",
    "for index in range(0,df.shape[0]):\n",
    "    dfElement = df.iloc[index]\n",
    "    serNum = dfElement[\"Serial Number W/O Production Number\"]\n",
    "    \n",
    "    if dfElement[\"Classification\"] == \"Failure\":\n",
    "        failedComponent = 1\n",
    "    else:\n",
    "        failedComponent = 0\n",
    "\n",
    "    if serNum in compRecords:\n",
    "        compRecords[serNum] = (compRecords[serNum][0] + failedComponent, compRecords[serNum] + 1)\n",
    "    else:\n",
    "        compRecords[serNum] = (failedComponent, 1)\n",
    "   \n",
    "    \n",
    "\n",
    "        "
   ]
  }
 ],
 "metadata": {
  "kernelspec": {
   "display_name": "MODS_NEH",
   "language": "python",
   "name": "python3"
  },
  "language_info": {
   "codemirror_mode": {
    "name": "ipython",
    "version": 3
   },
   "file_extension": ".py",
   "mimetype": "text/x-python",
   "name": "python",
   "nbconvert_exporter": "python",
   "pygments_lexer": "ipython3",
   "version": "3.12.4"
  }
 },
 "nbformat": 4,
 "nbformat_minor": 2
}
